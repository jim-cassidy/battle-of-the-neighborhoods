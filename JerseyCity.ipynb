{
 "cells": [
  {
   "cell_type": "markdown",
   "metadata": {
    "button": false,
    "deletable": true,
    "new_sheet": false,
    "run_control": {
     "read_only": false
    }
   },
   "source": [
    "<a href=\"https://cognitiveclass.ai\"><img src = \"https://ibm.box.com/shared/static/9gegpsmnsoo25ikkbl4qzlvlyjbgxs5x.png\" width = 400> </a>\n",
    "\n",
    "<h1 align=center><font size = 5>Learning FourSquare API with Python</font></h1>"
   ]
  },
  {
   "cell_type": "markdown",
   "metadata": {
    "button": false,
    "deletable": true,
    "new_sheet": false,
    "run_control": {
     "read_only": false
    }
   },
   "source": [
    "   "
   ]
  },
  {
   "cell_type": "markdown",
   "metadata": {
    "button": false,
    "deletable": true,
    "new_sheet": false,
    "run_control": {
     "read_only": false
    }
   },
   "source": [
    "## Introduction\n",
    "\n",
    "In this lab, you will learn in details how to make calls to the Foursquare API for different purposes. You will learn how to construct a URL to send a request to the API to search for a specific type of venues, to explore a particular venue, to explore a Foursquare user, to explore a geographical location, and to get trending venues around a location. Also, you will learn how to use the visualization library, Folium, to visualize the results."
   ]
  },
  {
   "cell_type": "markdown",
   "metadata": {
    "button": false,
    "deletable": true,
    "new_sheet": false,
    "run_control": {
     "read_only": false
    }
   },
   "source": [
    "## Table of Contents\n",
    "\n",
    "1. <a href=\"#item1\">Foursquare API Search Function</a>\n",
    "2. <a href=\"#item2\">Explore a Given Venue</a>  \n",
    "3. <a href=\"#item3\">Explore a User</a>  \n",
    "4. <a href=\"#item4\">Foursquare API Explore Function</a>  \n",
    "5. <a href=\"#item5\">Get Trending Venues</a>  "
   ]
  },
  {
   "cell_type": "markdown",
   "metadata": {
    "button": false,
    "deletable": true,
    "new_sheet": false,
    "run_control": {
     "read_only": false
    }
   },
   "source": [
    "### Import necessary Libraries"
   ]
  },
  {
   "cell_type": "code",
   "execution_count": 10,
   "metadata": {
    "button": false,
    "collapsed": false,
    "deletable": true,
    "new_sheet": false,
    "run_control": {
     "read_only": false
    }
   },
   "outputs": [
    {
     "name": "stdout",
     "output_type": "stream",
     "text": [
      "Collecting package metadata: done\n",
      "Solving environment: \\ Killed\n",
      "Collecting package metadata: done\n",
      "Solving environment: / Killed\n",
      "Folium installed\n"
     ]
    }
   ],
   "source": [
    "import requests # library to handle requests\n",
    "import pandas as pd # library for data analsysis\n",
    "import numpy as np # library to handle data in a vectorized manner\n",
    "import random # library for random number generation\n",
    "\n",
    "!conda install -c conda-forge geopy --yes \n",
    "from geopy.geocoders import Nominatim # module to convert an address into latitude and longitude values\n",
    "\n",
    "# libraries for displaying images\n",
    "from IPython.display import Image \n",
    "from IPython.core.display import HTML \n",
    "    \n",
    "# tranforming json file into a pandas dataframe library\n",
    "from pandas.io.json import json_normalize\n",
    "\n",
    "!conda install -c conda-forge folium=0.5.0 --yes\n",
    "import folium # plotting library\n",
    "\n",
    "print('Folium installed')"
   ]
  },
  {
   "cell_type": "markdown",
   "metadata": {
    "button": false,
    "deletable": true,
    "new_sheet": false,
    "run_control": {
     "read_only": false
    }
   },
   "source": [
    "### Define Foursquare Credentials and Version"
   ]
  },
  {
   "cell_type": "markdown",
   "metadata": {
    "button": false,
    "deletable": true,
    "new_sheet": false,
    "run_control": {
     "read_only": false
    }
   },
   "source": [
    "##### Make sure that you have created a Foursquare developer account and have your credentials handy"
   ]
  },
  {
   "cell_type": "code",
   "execution_count": 11,
   "metadata": {
    "button": false,
    "collapsed": false,
    "deletable": true,
    "new_sheet": false,
    "run_control": {
     "read_only": false
    }
   },
   "outputs": [
    {
     "name": "stdout",
     "output_type": "stream",
     "text": [
      "Your credentails:\n",
      "CLIENT_ID: JAH2Y0HES01BIMCMSRULSHTXIVUYLOQPGNJBIC0LWJ4KWMUL\n",
      "CLIENT_SECRET:GEZ1UJJVLK5YIXKZPMG03UBNBYHMJPA52NAEDO1GSP5IL1PA\n"
     ]
    }
   ],
   "source": [
    "CLIENT_ID = 'JAH2Y0HES01BIMCMSRULSHTXIVUYLOQPGNJBIC0LWJ4KWMUL' # your Foursquare ID\n",
    "CLIENT_SECRET = 'GEZ1UJJVLK5YIXKZPMG03UBNBYHMJPA52NAEDO1GSP5IL1PA' # your Foursquare Secret\n",
    "VERSION = '20180604'\n",
    "LIMIT = 1000\n",
    "print('Your credentails:')\n",
    "print('CLIENT_ID: ' + CLIENT_ID)\n",
    "print('CLIENT_SECRET:' + CLIENT_SECRET)"
   ]
  },
  {
   "cell_type": "markdown",
   "metadata": {
    "button": false,
    "deletable": true,
    "new_sheet": false,
    "run_control": {
     "read_only": false
    }
   },
   "source": [
    "  "
   ]
  },
  {
   "cell_type": "markdown",
   "metadata": {
    "button": false,
    "deletable": true,
    "new_sheet": false,
    "run_control": {
     "read_only": false
    }
   },
   "source": [
    "#### Let's again assume that you are staying at the Conrad hotel. So let's start by converting the Contrad Hotel's address to its latitude and longitude coordinates."
   ]
  },
  {
   "cell_type": "markdown",
   "metadata": {},
   "source": [
    "In order to define an instance of the geocoder, we need to define a user_agent. We will name our agent <em>foursquare_agent</em>, as shown below."
   ]
  },
  {
   "cell_type": "code",
   "execution_count": 12,
   "metadata": {
    "button": false,
    "collapsed": false,
    "deletable": true,
    "new_sheet": false,
    "run_control": {
     "read_only": false
    }
   },
   "outputs": [
    {
     "name": "stdout",
     "output_type": "stream",
     "text": [
      "40.7281575 -74.0776417\n"
     ]
    }
   ],
   "source": [
    "address = 'Jersey City, NJ'\n",
    "CID = '4bf58dd8d48988d13d941735'\n",
    "\n",
    "geolocator = Nominatim(user_agent=\"foursquare_agent\")\n",
    "location = geolocator.geocode(address)\n",
    "latitude = location.latitude\n",
    "longitude = location.longitude\n",
    "print(latitude, longitude)"
   ]
  },
  {
   "cell_type": "markdown",
   "metadata": {
    "button": false,
    "deletable": true,
    "new_sheet": false,
    "run_control": {
     "read_only": false
    }
   },
   "source": [
    "   "
   ]
  },
  {
   "cell_type": "markdown",
   "metadata": {
    "button": false,
    "deletable": true,
    "new_sheet": false,
    "run_control": {
     "read_only": false
    }
   },
   "source": [
    "<a id=\"item1\"></a>"
   ]
  },
  {
   "cell_type": "markdown",
   "metadata": {
    "button": false,
    "deletable": true,
    "new_sheet": false,
    "run_control": {
     "read_only": false
    }
   },
   "source": [
    "## 1. Search for a specific venue category\n",
    "> `https://api.foursquare.com/v2/venues/`**search**`?client_id=`**CLIENT_ID**`&client_secret=`**CLIENT_SECRET**`&ll=`**LATITUDE**`,`**LONGITUDE**`&v=`**VERSION**`&query=`**QUERY**`&radius=`**RADIUS**`&limit=`**LIMIT**"
   ]
  },
  {
   "cell_type": "markdown",
   "metadata": {
    "button": false,
    "deletable": true,
    "new_sheet": false,
    "run_control": {
     "read_only": false
    }
   },
   "source": [
    "#### Now, let's assume that it is lunch time, and you are craving Italian food. So, let's define a query to search for Italian food that is within 500 metres from the Conrad Hotel. "
   ]
  },
  {
   "cell_type": "code",
   "execution_count": 13,
   "metadata": {
    "button": false,
    "collapsed": false,
    "deletable": true,
    "new_sheet": false,
    "run_control": {
     "read_only": false
    },
    "scrolled": true
   },
   "outputs": [
    {
     "name": "stdout",
     "output_type": "stream",
     "text": [
      "High School .... OK!\n"
     ]
    }
   ],
   "source": [
    "search_query = 'High School'\n",
    "radius = 2000\n",
    "print(search_query + ' .... OK!')"
   ]
  },
  {
   "cell_type": "markdown",
   "metadata": {
    "button": false,
    "deletable": true,
    "new_sheet": false,
    "run_control": {
     "read_only": false
    }
   },
   "source": [
    "#### Define the corresponding URL"
   ]
  },
  {
   "cell_type": "code",
   "execution_count": 14,
   "metadata": {
    "button": false,
    "collapsed": false,
    "deletable": true,
    "new_sheet": false,
    "run_control": {
     "read_only": false
    }
   },
   "outputs": [
    {
     "data": {
      "text/plain": [
       "'https://api.foursquare.com/v2/venues/search?client_id=JAH2Y0HES01BIMCMSRULSHTXIVUYLOQPGNJBIC0LWJ4KWMUL&client_secret=GEZ1UJJVLK5YIXKZPMG03UBNBYHMJPA52NAEDO1GSP5IL1PA&ll=40.7281575,-74.0776417&v=20180604&query=High School&radius=2000&categoryId=4bf58dd8d48988d13d941735&limit=1000'"
      ]
     },
     "execution_count": 14,
     "metadata": {},
     "output_type": "execute_result"
    }
   ],
   "source": [
    "url = 'https://api.foursquare.com/v2/venues/search?client_id={}&client_secret={}&ll={},{}&v={}&query={}&radius={}&categoryId={}&limit={}'.format(CLIENT_ID, CLIENT_SECRET, latitude, longitude, VERSION, search_query, radius, CID, LIMIT)\n",
    "url"
   ]
  },
  {
   "cell_type": "markdown",
   "metadata": {
    "button": false,
    "deletable": true,
    "new_sheet": false,
    "run_control": {
     "read_only": false
    }
   },
   "source": [
    "#### Send the GET Request and examine the results"
   ]
  },
  {
   "cell_type": "code",
   "execution_count": 15,
   "metadata": {
    "button": false,
    "collapsed": false,
    "deletable": true,
    "new_sheet": false,
    "run_control": {
     "read_only": false
    },
    "scrolled": true
   },
   "outputs": [
    {
     "data": {
      "text/plain": [
       "{'meta': {'code': 200, 'requestId': '5c63d51d1ed2192b5db522b3'},\n",
       " 'response': {'venues': [{'id': '4c98caf0671db60c1550bcf6',\n",
       "    'name': 'William L. Dickinson High School',\n",
       "    'location': {'address': '2 Palisade Ave',\n",
       "     'lat': 40.730067976769575,\n",
       "     'lng': -74.0547202036539,\n",
       "     'labeledLatLngs': [{'label': 'display',\n",
       "       'lat': 40.730067976769575,\n",
       "       'lng': -74.0547202036539}],\n",
       "     'distance': 1945,\n",
       "     'postalCode': '07306',\n",
       "     'cc': 'US',\n",
       "     'city': 'Jersey City',\n",
       "     'state': 'NJ',\n",
       "     'country': 'United States',\n",
       "     'formattedAddress': ['2 Palisade Ave',\n",
       "      'Jersey City, NJ 07306',\n",
       "      'United States']},\n",
       "    'categories': [{'id': '4bf58dd8d48988d13d941735',\n",
       "      'name': 'High School',\n",
       "      'pluralName': 'High Schools',\n",
       "      'shortName': 'High School',\n",
       "      'icon': {'prefix': 'https://ss3.4sqi.net/img/categories_v2/building/school_',\n",
       "       'suffix': '.png'},\n",
       "      'primary': True}],\n",
       "    'referralId': 'v-1550046493',\n",
       "    'hasPerk': False},\n",
       "   {'id': '4c9bdc4c8afca0932d24e815',\n",
       "    'name': 'Hudson Catholic Regional High School',\n",
       "    'location': {'lat': 40.72619676302709,\n",
       "     'lng': -74.06713309817746,\n",
       "     'labeledLatLngs': [{'label': 'display',\n",
       "       'lat': 40.72619676302709,\n",
       "       'lng': -74.06713309817746}],\n",
       "     'distance': 912,\n",
       "     'postalCode': '07306',\n",
       "     'cc': 'US',\n",
       "     'city': 'Jersey City',\n",
       "     'state': 'NJ',\n",
       "     'country': 'United States',\n",
       "     'formattedAddress': ['Jersey City, NJ 07306', 'United States']},\n",
       "    'categories': [{'id': '4bf58dd8d48988d13d941735',\n",
       "      'name': 'High School',\n",
       "      'pluralName': 'High Schools',\n",
       "      'shortName': 'High School',\n",
       "      'icon': {'prefix': 'https://ss3.4sqi.net/img/categories_v2/building/school_',\n",
       "       'suffix': '.png'},\n",
       "      'primary': True}],\n",
       "    'referralId': 'v-1550046493',\n",
       "    'hasPerk': False},\n",
       "   {'id': '4c90f2b7b641236acb4b7d79',\n",
       "    'name': 'Abraham Lincoln High School',\n",
       "    'location': {'lat': 40.716670812621736,\n",
       "     'lng': -74.07025533479342,\n",
       "     'labeledLatLngs': [{'label': 'display',\n",
       "       'lat': 40.716670812621736,\n",
       "       'lng': -74.07025533479342}],\n",
       "     'distance': 1422,\n",
       "     'cc': 'US',\n",
       "     'city': 'Jersey City',\n",
       "     'state': 'NJ',\n",
       "     'country': 'United States',\n",
       "     'formattedAddress': ['Jersey City, NJ', 'United States']},\n",
       "    'categories': [{'id': '4bf58dd8d48988d13d941735',\n",
       "      'name': 'High School',\n",
       "      'pluralName': 'High Schools',\n",
       "      'shortName': 'High School',\n",
       "      'icon': {'prefix': 'https://ss3.4sqi.net/img/categories_v2/building/school_',\n",
       "       'suffix': '.png'},\n",
       "      'primary': True}],\n",
       "    'referralId': 'v-1550046493',\n",
       "    'hasPerk': False},\n",
       "   {'id': '4c7bbb88df08a1cdbc42e15d',\n",
       "    'name': 'County Prep High School',\n",
       "    'location': {'address': '495 Montgomery',\n",
       "     'lat': 40.72159519234109,\n",
       "     'lng': -74.0590458445638,\n",
       "     'labeledLatLngs': [{'label': 'display',\n",
       "       'lat': 40.72159519234109,\n",
       "       'lng': -74.0590458445638}],\n",
       "     'distance': 1730,\n",
       "     'postalCode': '07302',\n",
       "     'cc': 'US',\n",
       "     'city': 'Jersey City',\n",
       "     'state': 'NJ',\n",
       "     'country': 'United States',\n",
       "     'formattedAddress': ['495 Montgomery',\n",
       "      'Jersey City, NJ 07302',\n",
       "      'United States']},\n",
       "    'categories': [{'id': '4bf58dd8d48988d13d941735',\n",
       "      'name': 'High School',\n",
       "      'pluralName': 'High Schools',\n",
       "      'shortName': 'High School',\n",
       "      'icon': {'prefix': 'https://ss3.4sqi.net/img/categories_v2/building/school_',\n",
       "       'suffix': '.png'},\n",
       "      'primary': True}],\n",
       "    'referralId': 'v-1550046493',\n",
       "    'hasPerk': False},\n",
       "   {'id': '4c20ce3b4889a5931aed2620',\n",
       "    'name': 'University Academy Charter High School',\n",
       "    'location': {'address': '275 W Side Ave',\n",
       "     'lat': 40.71209295349962,\n",
       "     'lng': -74.09215035820861,\n",
       "     'labeledLatLngs': [{'label': 'display',\n",
       "       'lat': 40.71209295349962,\n",
       "       'lng': -74.09215035820861}],\n",
       "     'distance': 2167,\n",
       "     'postalCode': '07305',\n",
       "     'cc': 'US',\n",
       "     'city': 'Jersey City',\n",
       "     'state': 'NJ',\n",
       "     'country': 'United States',\n",
       "     'formattedAddress': ['275 W Side Ave',\n",
       "      'Jersey City, NJ 07305',\n",
       "      'United States']},\n",
       "    'categories': [{'id': '4bf58dd8d48988d13d941735',\n",
       "      'name': 'High School',\n",
       "      'pluralName': 'High Schools',\n",
       "      'shortName': 'High School',\n",
       "      'icon': {'prefix': 'https://ss3.4sqi.net/img/categories_v2/building/school_',\n",
       "       'suffix': '.png'},\n",
       "      'primary': True}],\n",
       "    'referralId': 'v-1550046493',\n",
       "    'hasPerk': False},\n",
       "   {'id': '4c88c10f944e224be6901e85',\n",
       "    'name': 'Henry Snyder High School',\n",
       "    'location': {'address': '239 Bergen Ave',\n",
       "     'lat': 40.71028766332997,\n",
       "     'lng': -74.08422897821396,\n",
       "     'labeledLatLngs': [{'label': 'display',\n",
       "       'lat': 40.71028766332997,\n",
       "       'lng': -74.08422897821396}],\n",
       "     'distance': 2065,\n",
       "     'postalCode': '07305',\n",
       "     'cc': 'US',\n",
       "     'city': 'Jersey City',\n",
       "     'state': 'NJ',\n",
       "     'country': 'United States',\n",
       "     'formattedAddress': ['239 Bergen Ave',\n",
       "      'Jersey City, NJ 07305',\n",
       "      'United States']},\n",
       "    'categories': [{'id': '4bf58dd8d48988d13d941735',\n",
       "      'name': 'High School',\n",
       "      'pluralName': 'High Schools',\n",
       "      'shortName': 'High School',\n",
       "      'icon': {'prefix': 'https://ss3.4sqi.net/img/categories_v2/building/school_',\n",
       "       'suffix': '.png'},\n",
       "      'primary': True}],\n",
       "    'referralId': 'v-1550046493',\n",
       "    'hasPerk': False},\n",
       "   {'id': '4ba788d1f964a520489b39e3',\n",
       "    'name': 'Hudson County Schools Of Technology',\n",
       "    'location': {'address': '525 Montgomery St',\n",
       "     'lat': 40.73432756441544,\n",
       "     'lng': -74.07435690137957,\n",
       "     'labeledLatLngs': [{'label': 'display',\n",
       "       'lat': 40.73432756441544,\n",
       "       'lng': -74.07435690137957}],\n",
       "     'distance': 740,\n",
       "     'postalCode': '07302',\n",
       "     'cc': 'US',\n",
       "     'city': 'Jersey City',\n",
       "     'state': 'NJ',\n",
       "     'country': 'United States',\n",
       "     'formattedAddress': ['525 Montgomery St',\n",
       "      'Jersey City, NJ 07302',\n",
       "      'United States']},\n",
       "    'categories': [{'id': '4bf58dd8d48988d13d941735',\n",
       "      'name': 'High School',\n",
       "      'pluralName': 'High Schools',\n",
       "      'shortName': 'High School',\n",
       "      'icon': {'prefix': 'https://ss3.4sqi.net/img/categories_v2/building/school_',\n",
       "       'suffix': '.png'},\n",
       "      'primary': True}],\n",
       "    'referralId': 'v-1550046493',\n",
       "    'hasPerk': False}]}}"
      ]
     },
     "execution_count": 15,
     "metadata": {},
     "output_type": "execute_result"
    }
   ],
   "source": [
    "results = requests.get(url).json()\n",
    "results"
   ]
  },
  {
   "cell_type": "markdown",
   "metadata": {
    "button": false,
    "deletable": true,
    "new_sheet": false,
    "run_control": {
     "read_only": false
    }
   },
   "source": [
    "#### Get relevant part of JSON and transform it into a *pandas* dataframe"
   ]
  },
  {
   "cell_type": "code",
   "execution_count": 16,
   "metadata": {
    "button": false,
    "collapsed": false,
    "deletable": true,
    "new_sheet": false,
    "run_control": {
     "read_only": false
    }
   },
   "outputs": [
    {
     "data": {
      "text/html": [
       "<div>\n",
       "<style scoped>\n",
       "    .dataframe tbody tr th:only-of-type {\n",
       "        vertical-align: middle;\n",
       "    }\n",
       "\n",
       "    .dataframe tbody tr th {\n",
       "        vertical-align: top;\n",
       "    }\n",
       "\n",
       "    .dataframe thead th {\n",
       "        text-align: right;\n",
       "    }\n",
       "</style>\n",
       "<table border=\"1\" class=\"dataframe\">\n",
       "  <thead>\n",
       "    <tr style=\"text-align: right;\">\n",
       "      <th></th>\n",
       "      <th>categories</th>\n",
       "      <th>hasPerk</th>\n",
       "      <th>id</th>\n",
       "      <th>location.address</th>\n",
       "      <th>location.cc</th>\n",
       "      <th>location.city</th>\n",
       "      <th>location.country</th>\n",
       "      <th>location.distance</th>\n",
       "      <th>location.formattedAddress</th>\n",
       "      <th>location.labeledLatLngs</th>\n",
       "      <th>location.lat</th>\n",
       "      <th>location.lng</th>\n",
       "      <th>location.postalCode</th>\n",
       "      <th>location.state</th>\n",
       "      <th>name</th>\n",
       "      <th>referralId</th>\n",
       "    </tr>\n",
       "  </thead>\n",
       "  <tbody>\n",
       "    <tr>\n",
       "      <th>0</th>\n",
       "      <td>[{'id': '4bf58dd8d48988d13d941735', 'name': 'H...</td>\n",
       "      <td>False</td>\n",
       "      <td>4c98caf0671db60c1550bcf6</td>\n",
       "      <td>2 Palisade Ave</td>\n",
       "      <td>US</td>\n",
       "      <td>Jersey City</td>\n",
       "      <td>United States</td>\n",
       "      <td>1945</td>\n",
       "      <td>[2 Palisade Ave, Jersey City, NJ 07306, United...</td>\n",
       "      <td>[{'label': 'display', 'lat': 40.73006797676957...</td>\n",
       "      <td>40.730068</td>\n",
       "      <td>-74.054720</td>\n",
       "      <td>07306</td>\n",
       "      <td>NJ</td>\n",
       "      <td>William L. Dickinson High School</td>\n",
       "      <td>v-1550046493</td>\n",
       "    </tr>\n",
       "    <tr>\n",
       "      <th>1</th>\n",
       "      <td>[{'id': '4bf58dd8d48988d13d941735', 'name': 'H...</td>\n",
       "      <td>False</td>\n",
       "      <td>4c9bdc4c8afca0932d24e815</td>\n",
       "      <td>NaN</td>\n",
       "      <td>US</td>\n",
       "      <td>Jersey City</td>\n",
       "      <td>United States</td>\n",
       "      <td>912</td>\n",
       "      <td>[Jersey City, NJ 07306, United States]</td>\n",
       "      <td>[{'label': 'display', 'lat': 40.72619676302709...</td>\n",
       "      <td>40.726197</td>\n",
       "      <td>-74.067133</td>\n",
       "      <td>07306</td>\n",
       "      <td>NJ</td>\n",
       "      <td>Hudson Catholic Regional High School</td>\n",
       "      <td>v-1550046493</td>\n",
       "    </tr>\n",
       "    <tr>\n",
       "      <th>2</th>\n",
       "      <td>[{'id': '4bf58dd8d48988d13d941735', 'name': 'H...</td>\n",
       "      <td>False</td>\n",
       "      <td>4c90f2b7b641236acb4b7d79</td>\n",
       "      <td>NaN</td>\n",
       "      <td>US</td>\n",
       "      <td>Jersey City</td>\n",
       "      <td>United States</td>\n",
       "      <td>1422</td>\n",
       "      <td>[Jersey City, NJ, United States]</td>\n",
       "      <td>[{'label': 'display', 'lat': 40.71667081262173...</td>\n",
       "      <td>40.716671</td>\n",
       "      <td>-74.070255</td>\n",
       "      <td>NaN</td>\n",
       "      <td>NJ</td>\n",
       "      <td>Abraham Lincoln High School</td>\n",
       "      <td>v-1550046493</td>\n",
       "    </tr>\n",
       "    <tr>\n",
       "      <th>3</th>\n",
       "      <td>[{'id': '4bf58dd8d48988d13d941735', 'name': 'H...</td>\n",
       "      <td>False</td>\n",
       "      <td>4c7bbb88df08a1cdbc42e15d</td>\n",
       "      <td>495 Montgomery</td>\n",
       "      <td>US</td>\n",
       "      <td>Jersey City</td>\n",
       "      <td>United States</td>\n",
       "      <td>1730</td>\n",
       "      <td>[495 Montgomery, Jersey City, NJ 07302, United...</td>\n",
       "      <td>[{'label': 'display', 'lat': 40.72159519234109...</td>\n",
       "      <td>40.721595</td>\n",
       "      <td>-74.059046</td>\n",
       "      <td>07302</td>\n",
       "      <td>NJ</td>\n",
       "      <td>County Prep High School</td>\n",
       "      <td>v-1550046493</td>\n",
       "    </tr>\n",
       "    <tr>\n",
       "      <th>4</th>\n",
       "      <td>[{'id': '4bf58dd8d48988d13d941735', 'name': 'H...</td>\n",
       "      <td>False</td>\n",
       "      <td>4c20ce3b4889a5931aed2620</td>\n",
       "      <td>275 W Side Ave</td>\n",
       "      <td>US</td>\n",
       "      <td>Jersey City</td>\n",
       "      <td>United States</td>\n",
       "      <td>2167</td>\n",
       "      <td>[275 W Side Ave, Jersey City, NJ 07305, United...</td>\n",
       "      <td>[{'label': 'display', 'lat': 40.71209295349962...</td>\n",
       "      <td>40.712093</td>\n",
       "      <td>-74.092150</td>\n",
       "      <td>07305</td>\n",
       "      <td>NJ</td>\n",
       "      <td>University Academy Charter High School</td>\n",
       "      <td>v-1550046493</td>\n",
       "    </tr>\n",
       "  </tbody>\n",
       "</table>\n",
       "</div>"
      ],
      "text/plain": [
       "                                          categories  hasPerk  \\\n",
       "0  [{'id': '4bf58dd8d48988d13d941735', 'name': 'H...    False   \n",
       "1  [{'id': '4bf58dd8d48988d13d941735', 'name': 'H...    False   \n",
       "2  [{'id': '4bf58dd8d48988d13d941735', 'name': 'H...    False   \n",
       "3  [{'id': '4bf58dd8d48988d13d941735', 'name': 'H...    False   \n",
       "4  [{'id': '4bf58dd8d48988d13d941735', 'name': 'H...    False   \n",
       "\n",
       "                         id location.address location.cc location.city  \\\n",
       "0  4c98caf0671db60c1550bcf6   2 Palisade Ave          US   Jersey City   \n",
       "1  4c9bdc4c8afca0932d24e815              NaN          US   Jersey City   \n",
       "2  4c90f2b7b641236acb4b7d79              NaN          US   Jersey City   \n",
       "3  4c7bbb88df08a1cdbc42e15d   495 Montgomery          US   Jersey City   \n",
       "4  4c20ce3b4889a5931aed2620   275 W Side Ave          US   Jersey City   \n",
       "\n",
       "  location.country  location.distance  \\\n",
       "0    United States               1945   \n",
       "1    United States                912   \n",
       "2    United States               1422   \n",
       "3    United States               1730   \n",
       "4    United States               2167   \n",
       "\n",
       "                           location.formattedAddress  \\\n",
       "0  [2 Palisade Ave, Jersey City, NJ 07306, United...   \n",
       "1             [Jersey City, NJ 07306, United States]   \n",
       "2                   [Jersey City, NJ, United States]   \n",
       "3  [495 Montgomery, Jersey City, NJ 07302, United...   \n",
       "4  [275 W Side Ave, Jersey City, NJ 07305, United...   \n",
       "\n",
       "                             location.labeledLatLngs  location.lat  \\\n",
       "0  [{'label': 'display', 'lat': 40.73006797676957...     40.730068   \n",
       "1  [{'label': 'display', 'lat': 40.72619676302709...     40.726197   \n",
       "2  [{'label': 'display', 'lat': 40.71667081262173...     40.716671   \n",
       "3  [{'label': 'display', 'lat': 40.72159519234109...     40.721595   \n",
       "4  [{'label': 'display', 'lat': 40.71209295349962...     40.712093   \n",
       "\n",
       "   location.lng location.postalCode location.state  \\\n",
       "0    -74.054720               07306             NJ   \n",
       "1    -74.067133               07306             NJ   \n",
       "2    -74.070255                 NaN             NJ   \n",
       "3    -74.059046               07302             NJ   \n",
       "4    -74.092150               07305             NJ   \n",
       "\n",
       "                                     name    referralId  \n",
       "0        William L. Dickinson High School  v-1550046493  \n",
       "1    Hudson Catholic Regional High School  v-1550046493  \n",
       "2             Abraham Lincoln High School  v-1550046493  \n",
       "3                 County Prep High School  v-1550046493  \n",
       "4  University Academy Charter High School  v-1550046493  "
      ]
     },
     "execution_count": 16,
     "metadata": {},
     "output_type": "execute_result"
    }
   ],
   "source": [
    "# assign relevant part of JSON to venues\n",
    "venues = results['response']['venues']\n",
    "\n",
    "# tranform venues into a dataframe\n",
    "dataframe = json_normalize(venues)\n",
    "dataframe.head()"
   ]
  },
  {
   "cell_type": "markdown",
   "metadata": {
    "button": false,
    "deletable": true,
    "new_sheet": false,
    "run_control": {
     "read_only": false
    }
   },
   "source": [
    "#### Define information of interest and filter dataframe"
   ]
  },
  {
   "cell_type": "code",
   "execution_count": 17,
   "metadata": {
    "button": false,
    "collapsed": false,
    "deletable": true,
    "new_sheet": false,
    "run_control": {
     "read_only": false
    },
    "scrolled": true
   },
   "outputs": [
    {
     "data": {
      "text/html": [
       "<div>\n",
       "<style scoped>\n",
       "    .dataframe tbody tr th:only-of-type {\n",
       "        vertical-align: middle;\n",
       "    }\n",
       "\n",
       "    .dataframe tbody tr th {\n",
       "        vertical-align: top;\n",
       "    }\n",
       "\n",
       "    .dataframe thead th {\n",
       "        text-align: right;\n",
       "    }\n",
       "</style>\n",
       "<table border=\"1\" class=\"dataframe\">\n",
       "  <thead>\n",
       "    <tr style=\"text-align: right;\">\n",
       "      <th></th>\n",
       "      <th>name</th>\n",
       "      <th>categories</th>\n",
       "      <th>address</th>\n",
       "      <th>cc</th>\n",
       "      <th>city</th>\n",
       "      <th>country</th>\n",
       "      <th>distance</th>\n",
       "      <th>formattedAddress</th>\n",
       "      <th>labeledLatLngs</th>\n",
       "      <th>lat</th>\n",
       "      <th>lng</th>\n",
       "      <th>postalCode</th>\n",
       "      <th>state</th>\n",
       "      <th>id</th>\n",
       "    </tr>\n",
       "  </thead>\n",
       "  <tbody>\n",
       "    <tr>\n",
       "      <th>0</th>\n",
       "      <td>William L. Dickinson High School</td>\n",
       "      <td>High School</td>\n",
       "      <td>2 Palisade Ave</td>\n",
       "      <td>US</td>\n",
       "      <td>Jersey City</td>\n",
       "      <td>United States</td>\n",
       "      <td>1945</td>\n",
       "      <td>[2 Palisade Ave, Jersey City, NJ 07306, United...</td>\n",
       "      <td>[{'label': 'display', 'lat': 40.73006797676957...</td>\n",
       "      <td>40.730068</td>\n",
       "      <td>-74.054720</td>\n",
       "      <td>07306</td>\n",
       "      <td>NJ</td>\n",
       "      <td>4c98caf0671db60c1550bcf6</td>\n",
       "    </tr>\n",
       "    <tr>\n",
       "      <th>1</th>\n",
       "      <td>Hudson Catholic Regional High School</td>\n",
       "      <td>High School</td>\n",
       "      <td>NaN</td>\n",
       "      <td>US</td>\n",
       "      <td>Jersey City</td>\n",
       "      <td>United States</td>\n",
       "      <td>912</td>\n",
       "      <td>[Jersey City, NJ 07306, United States]</td>\n",
       "      <td>[{'label': 'display', 'lat': 40.72619676302709...</td>\n",
       "      <td>40.726197</td>\n",
       "      <td>-74.067133</td>\n",
       "      <td>07306</td>\n",
       "      <td>NJ</td>\n",
       "      <td>4c9bdc4c8afca0932d24e815</td>\n",
       "    </tr>\n",
       "    <tr>\n",
       "      <th>2</th>\n",
       "      <td>Abraham Lincoln High School</td>\n",
       "      <td>High School</td>\n",
       "      <td>NaN</td>\n",
       "      <td>US</td>\n",
       "      <td>Jersey City</td>\n",
       "      <td>United States</td>\n",
       "      <td>1422</td>\n",
       "      <td>[Jersey City, NJ, United States]</td>\n",
       "      <td>[{'label': 'display', 'lat': 40.71667081262173...</td>\n",
       "      <td>40.716671</td>\n",
       "      <td>-74.070255</td>\n",
       "      <td>NaN</td>\n",
       "      <td>NJ</td>\n",
       "      <td>4c90f2b7b641236acb4b7d79</td>\n",
       "    </tr>\n",
       "    <tr>\n",
       "      <th>3</th>\n",
       "      <td>County Prep High School</td>\n",
       "      <td>High School</td>\n",
       "      <td>495 Montgomery</td>\n",
       "      <td>US</td>\n",
       "      <td>Jersey City</td>\n",
       "      <td>United States</td>\n",
       "      <td>1730</td>\n",
       "      <td>[495 Montgomery, Jersey City, NJ 07302, United...</td>\n",
       "      <td>[{'label': 'display', 'lat': 40.72159519234109...</td>\n",
       "      <td>40.721595</td>\n",
       "      <td>-74.059046</td>\n",
       "      <td>07302</td>\n",
       "      <td>NJ</td>\n",
       "      <td>4c7bbb88df08a1cdbc42e15d</td>\n",
       "    </tr>\n",
       "    <tr>\n",
       "      <th>4</th>\n",
       "      <td>University Academy Charter High School</td>\n",
       "      <td>High School</td>\n",
       "      <td>275 W Side Ave</td>\n",
       "      <td>US</td>\n",
       "      <td>Jersey City</td>\n",
       "      <td>United States</td>\n",
       "      <td>2167</td>\n",
       "      <td>[275 W Side Ave, Jersey City, NJ 07305, United...</td>\n",
       "      <td>[{'label': 'display', 'lat': 40.71209295349962...</td>\n",
       "      <td>40.712093</td>\n",
       "      <td>-74.092150</td>\n",
       "      <td>07305</td>\n",
       "      <td>NJ</td>\n",
       "      <td>4c20ce3b4889a5931aed2620</td>\n",
       "    </tr>\n",
       "    <tr>\n",
       "      <th>5</th>\n",
       "      <td>Henry Snyder High School</td>\n",
       "      <td>High School</td>\n",
       "      <td>239 Bergen Ave</td>\n",
       "      <td>US</td>\n",
       "      <td>Jersey City</td>\n",
       "      <td>United States</td>\n",
       "      <td>2065</td>\n",
       "      <td>[239 Bergen Ave, Jersey City, NJ 07305, United...</td>\n",
       "      <td>[{'label': 'display', 'lat': 40.71028766332997...</td>\n",
       "      <td>40.710288</td>\n",
       "      <td>-74.084229</td>\n",
       "      <td>07305</td>\n",
       "      <td>NJ</td>\n",
       "      <td>4c88c10f944e224be6901e85</td>\n",
       "    </tr>\n",
       "    <tr>\n",
       "      <th>6</th>\n",
       "      <td>Hudson County Schools Of Technology</td>\n",
       "      <td>High School</td>\n",
       "      <td>525 Montgomery St</td>\n",
       "      <td>US</td>\n",
       "      <td>Jersey City</td>\n",
       "      <td>United States</td>\n",
       "      <td>740</td>\n",
       "      <td>[525 Montgomery St, Jersey City, NJ 07302, Uni...</td>\n",
       "      <td>[{'label': 'display', 'lat': 40.73432756441544...</td>\n",
       "      <td>40.734328</td>\n",
       "      <td>-74.074357</td>\n",
       "      <td>07302</td>\n",
       "      <td>NJ</td>\n",
       "      <td>4ba788d1f964a520489b39e3</td>\n",
       "    </tr>\n",
       "  </tbody>\n",
       "</table>\n",
       "</div>"
      ],
      "text/plain": [
       "                                     name   categories            address  cc  \\\n",
       "0        William L. Dickinson High School  High School     2 Palisade Ave  US   \n",
       "1    Hudson Catholic Regional High School  High School                NaN  US   \n",
       "2             Abraham Lincoln High School  High School                NaN  US   \n",
       "3                 County Prep High School  High School     495 Montgomery  US   \n",
       "4  University Academy Charter High School  High School     275 W Side Ave  US   \n",
       "5                Henry Snyder High School  High School     239 Bergen Ave  US   \n",
       "6     Hudson County Schools Of Technology  High School  525 Montgomery St  US   \n",
       "\n",
       "          city        country  distance  \\\n",
       "0  Jersey City  United States      1945   \n",
       "1  Jersey City  United States       912   \n",
       "2  Jersey City  United States      1422   \n",
       "3  Jersey City  United States      1730   \n",
       "4  Jersey City  United States      2167   \n",
       "5  Jersey City  United States      2065   \n",
       "6  Jersey City  United States       740   \n",
       "\n",
       "                                    formattedAddress  \\\n",
       "0  [2 Palisade Ave, Jersey City, NJ 07306, United...   \n",
       "1             [Jersey City, NJ 07306, United States]   \n",
       "2                   [Jersey City, NJ, United States]   \n",
       "3  [495 Montgomery, Jersey City, NJ 07302, United...   \n",
       "4  [275 W Side Ave, Jersey City, NJ 07305, United...   \n",
       "5  [239 Bergen Ave, Jersey City, NJ 07305, United...   \n",
       "6  [525 Montgomery St, Jersey City, NJ 07302, Uni...   \n",
       "\n",
       "                                      labeledLatLngs        lat        lng  \\\n",
       "0  [{'label': 'display', 'lat': 40.73006797676957...  40.730068 -74.054720   \n",
       "1  [{'label': 'display', 'lat': 40.72619676302709...  40.726197 -74.067133   \n",
       "2  [{'label': 'display', 'lat': 40.71667081262173...  40.716671 -74.070255   \n",
       "3  [{'label': 'display', 'lat': 40.72159519234109...  40.721595 -74.059046   \n",
       "4  [{'label': 'display', 'lat': 40.71209295349962...  40.712093 -74.092150   \n",
       "5  [{'label': 'display', 'lat': 40.71028766332997...  40.710288 -74.084229   \n",
       "6  [{'label': 'display', 'lat': 40.73432756441544...  40.734328 -74.074357   \n",
       "\n",
       "  postalCode state                        id  \n",
       "0      07306    NJ  4c98caf0671db60c1550bcf6  \n",
       "1      07306    NJ  4c9bdc4c8afca0932d24e815  \n",
       "2        NaN    NJ  4c90f2b7b641236acb4b7d79  \n",
       "3      07302    NJ  4c7bbb88df08a1cdbc42e15d  \n",
       "4      07305    NJ  4c20ce3b4889a5931aed2620  \n",
       "5      07305    NJ  4c88c10f944e224be6901e85  \n",
       "6      07302    NJ  4ba788d1f964a520489b39e3  "
      ]
     },
     "execution_count": 17,
     "metadata": {},
     "output_type": "execute_result"
    }
   ],
   "source": [
    "dataframe\n",
    "# keep only columns that include venue name, and anything that is associated with location\n",
    "filtered_columns = ['name', 'categories'] + [col for col in dataframe.columns if col.startswith('location.')] + ['id']\n",
    "dataframe_filtered = dataframe.loc[:, filtered_columns]\n",
    "\n",
    "# function that extracts the category of the venue\n",
    "def get_category_type(row):\n",
    "    try:\n",
    "        categories_list = row['categories']\n",
    "    except:\n",
    "        categories_list = row['venue.categories']\n",
    "        \n",
    "    if len(categories_list) == 0:\n",
    "        return None\n",
    "    else:\n",
    "        return categories_list[0]['name']\n",
    "\n",
    "# filter the category for each row\n",
    "dataframe_filtered['categories'] = dataframe_filtered.apply(get_category_type, axis=1)\n",
    "\n",
    "# clean column names by keeping only last term\n",
    "dataframe_filtered.columns = [column.split('.')[-1] for column in dataframe_filtered.columns]\n",
    "\n",
    "dataframe_filtered"
   ]
  },
  {
   "cell_type": "markdown",
   "metadata": {
    "button": false,
    "deletable": true,
    "new_sheet": false,
    "run_control": {
     "read_only": false
    }
   },
   "source": [
    "#### Let's visualize the Italian restaurants that are nearby"
   ]
  },
  {
   "cell_type": "code",
   "execution_count": 18,
   "metadata": {
    "button": false,
    "collapsed": false,
    "deletable": true,
    "new_sheet": false,
    "run_control": {
     "read_only": false
    }
   },
   "outputs": [
    {
     "data": {
      "text/plain": [
       "0          William L. Dickinson High School\n",
       "1      Hudson Catholic Regional High School\n",
       "2               Abraham Lincoln High School\n",
       "3                   County Prep High School\n",
       "4    University Academy Charter High School\n",
       "5                  Henry Snyder High School\n",
       "6       Hudson County Schools Of Technology\n",
       "Name: name, dtype: object"
      ]
     },
     "execution_count": 18,
     "metadata": {},
     "output_type": "execute_result"
    }
   ],
   "source": [
    "dataframe_filtered.name"
   ]
  }
 ],
 "metadata": {
  "kernelspec": {
   "display_name": "Python 3",
   "language": "python",
   "name": "python3"
  },
  "language_info": {
   "codemirror_mode": {
    "name": "ipython",
    "version": 3
   },
   "file_extension": ".py",
   "mimetype": "text/x-python",
   "name": "python",
   "nbconvert_exporter": "python",
   "pygments_lexer": "ipython3",
   "version": "3.6.8"
  },
  "widgets": {
   "state": {},
   "version": "1.1.2"
  }
 },
 "nbformat": 4,
 "nbformat_minor": 2
}
